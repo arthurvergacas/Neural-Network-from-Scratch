{
 "cells": [
  {
   "cell_type": "code",
   "execution_count": null,
   "source": [
    "import numpy as np\n",
    "import matplotlib.pyplot as plt\n",
    "from keras.datasets import mnist\n",
    "from network import NeuralNetwork\n",
    "from keras.utils import np_utils"
   ],
   "outputs": [],
   "metadata": {}
  },
  {
   "cell_type": "code",
   "execution_count": null,
   "source": [
    "(x_train, y_train), (x_test, y_test) = mnist.load_data()"
   ],
   "outputs": [],
   "metadata": {}
  },
  {
   "cell_type": "code",
   "execution_count": null,
   "source": [
    "# Reshaping  and normalizing data\n",
    "x_train = x_train.reshape(x_train.shape[0], 28 * 28, 1)\n",
    "x_train = x_train.astype('float32')\n",
    "x_train /= 255\n",
    "# One-Hot encoding the outputs\n",
    "# Example: number 3 will become [0, 0, 0, 1, 0, 0, 0, 0, 0, 0]\n",
    "y_train = np_utils.to_categorical(y_train)\n",
    "y_train = y_train.reshape(y_train.shape[0], 10, 1)\n",
    "\n",
    "x_test = x_test.reshape(x_test.shape[0], 28 * 28, 1)\n",
    "x_test = x_test.astype('float32')\n",
    "x_test /= 255\n",
    "y_test = np_utils.to_categorical(y_test)\n",
    "y_test = y_test.reshape(y_test.shape[0], 10, 1)"
   ],
   "outputs": [],
   "metadata": {}
  },
  {
   "cell_type": "code",
   "execution_count": null,
   "source": [
    "# Data will be represented as a tuple (input, output)\n",
    "train_data = [(np.expand_dims(X.flatten(), axis=0).transpose(), y) for X, y in zip(x_train, y_train)]\n",
    "test_data = [(np.expand_dims(X.flatten(), axis=0).transpose(), y) for X, y in zip(x_test, y_test)]"
   ],
   "outputs": [],
   "metadata": {}
  },
  {
   "cell_type": "code",
   "execution_count": null,
   "source": [
    "# Defining the neural network architecture\n",
    "nn_architecture = [\n",
    "    {\"input_dim\": 784, \"output_dim\": 30, \"activation\": \"relu\"},\n",
    "    {\"input_dim\": 30, \"output_dim\": 10, \"activation\": \"sigmoid\"},\n",
    "]"
   ],
   "outputs": [],
   "metadata": {}
  },
  {
   "cell_type": "code",
   "execution_count": null,
   "source": [
    "model = NeuralNetwork(nn_architecture)\n",
    "model.train(train_data, 100, 30, 0.01, test_data=test_data)"
   ],
   "outputs": [],
   "metadata": {}
  }
 ],
 "metadata": {
  "interpreter": {
   "hash": "916dbcbb3f70747c44a77c7bcd40155683ae19c65e1c03b4aa3499c5328201f1"
  },
  "kernelspec": {
   "display_name": "Python 3",
   "language": "python",
   "name": "python3"
  },
  "language_info": {
   "codemirror_mode": {
    "name": "ipython",
    "version": 3
   },
   "file_extension": ".py",
   "mimetype": "text/x-python",
   "name": "python",
   "nbconvert_exporter": "python",
   "pygments_lexer": "ipython3",
   "version": "3.8.8"
  }
 },
 "nbformat": 4,
 "nbformat_minor": 2
}